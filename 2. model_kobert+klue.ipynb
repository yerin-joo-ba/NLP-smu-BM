{
 "cells": [
  {
   "cell_type": "code",
   "execution_count": 1,
   "metadata": {},
   "outputs": [],
   "source": [
    "import pandas as pd"
   ]
  },
  {
   "cell_type": "code",
   "execution_count": 2,
   "metadata": {},
   "outputs": [
    {
     "data": {
      "text/plain": [
       "'c:\\\\Users\\\\jjjen\\\\추천시스템\\\\Audit'"
      ]
     },
     "execution_count": 2,
     "metadata": {},
     "output_type": "execute_result"
    }
   ],
   "source": [
    "import os\n",
    "os.getcwd()"
   ]
  },
  {
   "cell_type": "code",
   "execution_count": 3,
   "metadata": {},
   "outputs": [
    {
     "data": {
      "text/html": [
       "<div>\n",
       "<style scoped>\n",
       "    .dataframe tbody tr th:only-of-type {\n",
       "        vertical-align: middle;\n",
       "    }\n",
       "\n",
       "    .dataframe tbody tr th {\n",
       "        vertical-align: top;\n",
       "    }\n",
       "\n",
       "    .dataframe thead th {\n",
       "        text-align: right;\n",
       "    }\n",
       "</style>\n",
       "<table border=\"1\" class=\"dataframe\">\n",
       "  <thead>\n",
       "    <tr style=\"text-align: right;\">\n",
       "      <th></th>\n",
       "      <th>keyword</th>\n",
       "      <th>title</th>\n",
       "      <th>date</th>\n",
       "      <th>cleaned_content</th>\n",
       "    </tr>\n",
       "  </thead>\n",
       "  <tbody>\n",
       "    <tr>\n",
       "      <th>0</th>\n",
       "      <td>\"한국가스공사\" + 손실</td>\n",
       "      <td>[단독] ‘30조 적자’ 한전, 빚내 민간발전사 손실 메운다</td>\n",
       "      <td>2023-05-10 04:09:12</td>\n",
       "      <td>SMP 상한제로 1조대 손실 추산구입 155원 판매 120원 역마진구조금주 전기가...</td>\n",
       "    </tr>\n",
       "    <tr>\n",
       "      <th>1</th>\n",
       "      <td>\"한국가스공사\" + 손실</td>\n",
       "      <td>한전·가스공사 손실 쌓이는데...2분기 요금 두고 국회·세종·용산은 혼돈 속</td>\n",
       "      <td>2023-05-11 19:01:01</td>\n",
       "      <td>관련법규정에 없는 당정협의로 2분기 요금 40일째 미궁20조 자구책에도 여당 뼈 ...</td>\n",
       "    </tr>\n",
       "    <tr>\n",
       "      <th>2</th>\n",
       "      <td>\"한국가스공사\" + 손실</td>\n",
       "      <td>'전기 팔수록 손해' 한전, 올 1분기 5조원대 영업손실 예고</td>\n",
       "      <td>2023-05-09 06:01:03</td>\n",
       "      <td>12일께 1분기 실적 공개올해 8조7천억원 적자 전망가스공사 미수금도 11조원대로...</td>\n",
       "    </tr>\n",
       "    <tr>\n",
       "      <th>3</th>\n",
       "      <td>\"한국가스공사\" + 손실</td>\n",
       "      <td>'전기 팔수록 손해' 한전, 올 1분기 5조원대 영업손실 예고</td>\n",
       "      <td>2023-05-09 08:54:43</td>\n",
       "      <td>원가보다 싼 전력 공급의 장기화로 적자가 불어나고 있는 한국전력은 올해 1...</td>\n",
       "    </tr>\n",
       "    <tr>\n",
       "      <th>4</th>\n",
       "      <td>\"한국가스공사\" + 손실</td>\n",
       "      <td>與 “文정부 탓 한전 추가손실…요금 올리려면 한전 자구노력 선행돼야”</td>\n",
       "      <td>2023-04-25 06:02:02</td>\n",
       "      <td>에너지미래포럼 25일 에너지정책 토론회박대출 국민의힘 정책위 의장 재차 강조에너지...</td>\n",
       "    </tr>\n",
       "  </tbody>\n",
       "</table>\n",
       "</div>"
      ],
      "text/plain": [
       "         keyword                                       title  \\\n",
       "0  \"한국가스공사\" + 손실           [단독] ‘30조 적자’ 한전, 빚내 민간발전사 손실 메운다   \n",
       "1  \"한국가스공사\" + 손실  한전·가스공사 손실 쌓이는데...2분기 요금 두고 국회·세종·용산은 혼돈 속   \n",
       "2  \"한국가스공사\" + 손실          '전기 팔수록 손해' 한전, 올 1분기 5조원대 영업손실 예고   \n",
       "3  \"한국가스공사\" + 손실          '전기 팔수록 손해' 한전, 올 1분기 5조원대 영업손실 예고   \n",
       "4  \"한국가스공사\" + 손실      與 “文정부 탓 한전 추가손실…요금 올리려면 한전 자구노력 선행돼야”   \n",
       "\n",
       "                  date                                    cleaned_content  \n",
       "0  2023-05-10 04:09:12   SMP 상한제로 1조대 손실 추산구입 155원 판매 120원 역마진구조금주 전기가...  \n",
       "1  2023-05-11 19:01:01   관련법규정에 없는 당정협의로 2분기 요금 40일째 미궁20조 자구책에도 여당 뼈 ...  \n",
       "2  2023-05-09 06:01:03   12일께 1분기 실적 공개올해 8조7천억원 적자 전망가스공사 미수금도 11조원대로...  \n",
       "3  2023-05-09 08:54:43       원가보다 싼 전력 공급의 장기화로 적자가 불어나고 있는 한국전력은 올해 1...  \n",
       "4  2023-04-25 06:02:02   에너지미래포럼 25일 에너지정책 토론회박대출 국민의힘 정책위 의장 재차 강조에너지...  "
      ]
     },
     "execution_count": 3,
     "metadata": {},
     "output_type": "execute_result"
    }
   ],
   "source": [
    "df = pd.read_csv('news_preprocessed_0620.csv')\n",
    "df.head()"
   ]
  },
  {
   "cell_type": "code",
   "execution_count": 4,
   "metadata": {},
   "outputs": [],
   "source": [
    "df = df.dropna()"
   ]
  },
  {
   "attachments": {},
   "cell_type": "markdown",
   "metadata": {},
   "source": [
    "# Kobert"
   ]
  },
  {
   "cell_type": "code",
   "execution_count": 5,
   "metadata": {},
   "outputs": [],
   "source": [
    "import torch\n",
    "import tensorflow as tf\n",
    "from transformers import BertTokenizer, BertForSequenceClassification\n",
    "from tqdm.auto import tqdm"
   ]
  },
  {
   "cell_type": "code",
   "execution_count": 6,
   "metadata": {},
   "outputs": [
    {
     "name": "stdout",
     "output_type": "stream",
     "text": [
      "Current device: NVIDIA GeForce RTX 3060 Laptop GPU\n",
      "GPU is available\n"
     ]
    }
   ],
   "source": [
    "print(f'Current device: {torch.cuda.get_device_name(torch.cuda.current_device())}')\n",
    "\n",
    "if tf.config.list_physical_devices('GPU'):\n",
    "    print(\"GPU is available\")\n",
    "else:\n",
    "    print(\"GPU is not available\")\n"
   ]
  },
  {
   "attachments": {},
   "cell_type": "markdown",
   "metadata": {},
   "source": [
    "# KOBERT"
   ]
  },
  {
   "cell_type": "code",
   "execution_count": 7,
   "metadata": {},
   "outputs": [],
   "source": [
    "gpus = tf.config.experimental.list_physical_devices('GPU')\n",
    "if gpus:\n",
    "    try:\n",
    "        # Currently, memory growth needs to be the same across GPUs\n",
    "        for gpu in gpus:\n",
    "            tf.config.experimental.set_memory_growth(gpu, True)\n",
    "    except RuntimeError as e:\n",
    "        # Memory growth must be set before GPUs have been initialized\n",
    "        print(e)"
   ]
  },
  {
   "cell_type": "code",
   "execution_count": 27,
   "metadata": {},
   "outputs": [
    {
     "name": "stderr",
     "output_type": "stream",
     "text": [
      "Some weights of BertForSequenceClassification were not initialized from the model checkpoint at monologg/kobert and are newly initialized: ['classifier.bias', 'classifier.weight']\n",
      "You should probably TRAIN this model on a down-stream task to be able to use it for predictions and inference.\n"
     ]
    },
    {
     "data": {
      "application/vnd.jupyter.widget-view+json": {
       "model_id": "5f7558ce502d4d558d7bb2589f5b091d",
       "version_major": 2,
       "version_minor": 0
      },
      "text/plain": [
       "  0%|          | 0/104290 [00:00<?, ?it/s]"
      ]
     },
     "metadata": {},
     "output_type": "display_data"
    },
    {
     "name": "stderr",
     "output_type": "stream",
     "text": [
      "Token indices sequence length is longer than the specified maximum sequence length for this model (578 > 512). Running this sequence through the model will result in indexing errors\n"
     ]
    }
   ],
   "source": [
    "# Check if a GPU is available and if not, use a CPU\n",
    "\n",
    "device = torch.device(\"cuda\")\n",
    "        \n",
    "# Load the pre-trained model\n",
    "model = BertForSequenceClassification.from_pretrained(\"monologg/kobert\").to(device)\n",
    "\n",
    "# Load the pre-trained model tokenizer\n",
    "tokenizer = BertTokenizer.from_pretrained(\"monologg/kobert\")\n",
    "\n",
    "# Create a new `output` column and initialize it to 0\n",
    "df[\"output_kobert\"] = 0.0\n",
    "\n",
    "# Add a progress bar\n",
    "pbar = tqdm(total=len(df))\n",
    "\n",
    "for i, row in df.iterrows():\n",
    "    # Input text\n",
    "    text = row[\"cleaned_content\"]\n",
    "\n",
    "    # Tokenize the text with the tokenizer and convert it to the model's input format\n",
    "    input_ids = tokenizer.encode(text, add_special_tokens=True)\n",
    "\n",
    "    # Truncate the input_ids to 512 tokens if it's longer\n",
    "    #if len(input_ids) > 512:\n",
    "    #    input_ids = input_ids[:512]\n",
    "\n",
    "    # Add padding or truncate to max length\n",
    "    input_ids = input_ids[:512] if len(input_ids) > 512 else input_ids + [0] * (512 - len(input_ids))\n",
    "\n",
    "    input_ids = torch.tensor([input_ids]).to(device)\n",
    "\n",
    "    # Predict with the model\n",
    "    outputs = model(input_ids)\n",
    "\n",
    "    # Convert the result from log probabilities to probabilities\n",
    "    probs = torch.nn.functional.softmax(outputs[0], dim=1)\n",
    "\n",
    "    # Store the negative probability in the `output` column\n",
    "    df.at[i, \"output_kobert\"] = probs[0][1].item()\n",
    "\n",
    "    # Update the progress bar\n",
    "    pbar.update()\n",
    "\n",
    "# Close the progress bar\n",
    "pbar.close()"
   ]
  },
  {
   "attachments": {},
   "cell_type": "markdown",
   "metadata": {},
   "source": [
    "# KLUE"
   ]
  },
  {
   "cell_type": "code",
   "execution_count": 28,
   "metadata": {},
   "outputs": [
    {
     "name": "stderr",
     "output_type": "stream",
     "text": [
      "Some weights of the model checkpoint at klue/bert-base were not used when initializing BertForSequenceClassification: ['cls.predictions.bias', 'cls.seq_relationship.bias', 'cls.predictions.transform.dense.bias', 'cls.predictions.transform.LayerNorm.bias', 'cls.predictions.transform.LayerNorm.weight', 'cls.seq_relationship.weight', 'cls.predictions.transform.dense.weight']\n",
      "- This IS expected if you are initializing BertForSequenceClassification from the checkpoint of a model trained on another task or with another architecture (e.g. initializing a BertForSequenceClassification model from a BertForPreTraining model).\n",
      "- This IS NOT expected if you are initializing BertForSequenceClassification from the checkpoint of a model that you expect to be exactly identical (initializing a BertForSequenceClassification model from a BertForSequenceClassification model).\n",
      "Some weights of BertForSequenceClassification were not initialized from the model checkpoint at klue/bert-base and are newly initialized: ['classifier.bias', 'classifier.weight']\n",
      "You should probably TRAIN this model on a down-stream task to be able to use it for predictions and inference.\n"
     ]
    },
    {
     "data": {
      "application/vnd.jupyter.widget-view+json": {
       "model_id": "5e7263fe393a42c1b9ffac796ef61855",
       "version_major": 2,
       "version_minor": 0
      },
      "text/plain": [
       "  0%|          | 0/104290 [00:00<?, ?it/s]"
      ]
     },
     "metadata": {},
     "output_type": "display_data"
    },
    {
     "name": "stderr",
     "output_type": "stream",
     "text": [
      "Token indices sequence length is longer than the specified maximum sequence length for this model (612 > 512). Running this sequence through the model will result in indexing errors\n"
     ]
    }
   ],
   "source": [
    "device = torch.device(\"cuda\")\n",
    "\n",
    "# Load the pre-trained model and move it to the device\n",
    "model = BertForSequenceClassification.from_pretrained(\"klue/bert-base\").to(device) \n",
    "\n",
    "# Load the pre-trained model tokenizer\n",
    "tokenizer = BertTokenizer.from_pretrained(\"klue/bert-base\")\n",
    "\n",
    "# Create a new `output` column and initialize it to 0\n",
    "df[\"output_klue\"] = 0.0\n",
    "\n",
    "# Add a progress bar\n",
    "pbar = tqdm(total=len(df))\n",
    "\n",
    "for i, row in df.iterrows():\n",
    "    # Input text\n",
    "    text = row[\"cleaned_content\"]\n",
    "\n",
    "    # Tokenize the text with the tokenizer and convert it to the model's input format\n",
    "    input_ids = tokenizer.encode(text, add_special_tokens=True)\n",
    "\n",
    "    # Truncate the input_ids to 512 tokens if it's longer\n",
    "    input_ids = input_ids[:512] if len(input_ids) > 512 else input_ids + [0] * (512 - len(input_ids))\n",
    "\n",
    "    input_ids = torch.tensor([input_ids]).to(device)\n",
    "\n",
    "    # Predict with the model\n",
    "    outputs = model(input_ids)\n",
    "\n",
    "    # Convert the result from log probabilities to probabilities\n",
    "    probs = torch.nn.functional.softmax(outputs[0], dim=1)\n",
    "\n",
    "    # Store the negative probability in the `output` column\n",
    "    df.at[i, \"output_klue\"] = probs[0][1].item()\n",
    "\n",
    "    # Update the progress bar\n",
    "    pbar.update()\n",
    "\n",
    "# Close the progress bar\n",
    "pbar.close()"
   ]
  },
  {
   "cell_type": "code",
   "execution_count": 11,
   "metadata": {},
   "outputs": [
    {
     "data": {
      "text/html": [
       "<div>\n",
       "<style scoped>\n",
       "    .dataframe tbody tr th:only-of-type {\n",
       "        vertical-align: middle;\n",
       "    }\n",
       "\n",
       "    .dataframe tbody tr th {\n",
       "        vertical-align: top;\n",
       "    }\n",
       "\n",
       "    .dataframe thead th {\n",
       "        text-align: right;\n",
       "    }\n",
       "</style>\n",
       "<table border=\"1\" class=\"dataframe\">\n",
       "  <thead>\n",
       "    <tr style=\"text-align: right;\">\n",
       "      <th></th>\n",
       "      <th>keyword</th>\n",
       "      <th>title</th>\n",
       "      <th>date</th>\n",
       "      <th>cleaned_content</th>\n",
       "      <th>output</th>\n",
       "      <th>output_kobert</th>\n",
       "    </tr>\n",
       "  </thead>\n",
       "  <tbody>\n",
       "    <tr>\n",
       "      <th>0</th>\n",
       "      <td>\"한국가스공사\" + 손실</td>\n",
       "      <td>[단독] ‘30조 적자’ 한전, 빚내 민간발전사 손실 메운다</td>\n",
       "      <td>2023-05-10 04:09:12</td>\n",
       "      <td>SMP 상한제로 1조대 손실 추산구입 155원 판매 120원 역마진구조금주 전기가...</td>\n",
       "      <td>0.558287</td>\n",
       "      <td>0.459686</td>\n",
       "    </tr>\n",
       "    <tr>\n",
       "      <th>1</th>\n",
       "      <td>\"한국가스공사\" + 손실</td>\n",
       "      <td>한전·가스공사 손실 쌓이는데...2분기 요금 두고 국회·세종·용산은 혼돈 속</td>\n",
       "      <td>2023-05-11 19:01:01</td>\n",
       "      <td>관련법규정에 없는 당정협의로 2분기 요금 40일째 미궁20조 자구책에도 여당 뼈 ...</td>\n",
       "      <td>0.463708</td>\n",
       "      <td>0.473964</td>\n",
       "    </tr>\n",
       "    <tr>\n",
       "      <th>2</th>\n",
       "      <td>\"한국가스공사\" + 손실</td>\n",
       "      <td>'전기 팔수록 손해' 한전, 올 1분기 5조원대 영업손실 예고</td>\n",
       "      <td>2023-05-09 06:01:03</td>\n",
       "      <td>12일께 1분기 실적 공개올해 8조7천억원 적자 전망가스공사 미수금도 11조원대로...</td>\n",
       "      <td>0.556163</td>\n",
       "      <td>0.476445</td>\n",
       "    </tr>\n",
       "    <tr>\n",
       "      <th>3</th>\n",
       "      <td>\"한국가스공사\" + 손실</td>\n",
       "      <td>'전기 팔수록 손해' 한전, 올 1분기 5조원대 영업손실 예고</td>\n",
       "      <td>2023-05-09 08:54:43</td>\n",
       "      <td>원가보다 싼 전력 공급의 장기화로 적자가 불어나고 있는 한국전력은 올해 1...</td>\n",
       "      <td>0.450437</td>\n",
       "      <td>0.437062</td>\n",
       "    </tr>\n",
       "    <tr>\n",
       "      <th>4</th>\n",
       "      <td>\"한국가스공사\" + 손실</td>\n",
       "      <td>與 “文정부 탓 한전 추가손실…요금 올리려면 한전 자구노력 선행돼야”</td>\n",
       "      <td>2023-04-25 06:02:02</td>\n",
       "      <td>에너지미래포럼 25일 에너지정책 토론회박대출 국민의힘 정책위 의장 재차 강조에너지...</td>\n",
       "      <td>0.535732</td>\n",
       "      <td>0.473413</td>\n",
       "    </tr>\n",
       "  </tbody>\n",
       "</table>\n",
       "</div>"
      ],
      "text/plain": [
       "         keyword                                       title  \\\n",
       "0  \"한국가스공사\" + 손실           [단독] ‘30조 적자’ 한전, 빚내 민간발전사 손실 메운다   \n",
       "1  \"한국가스공사\" + 손실  한전·가스공사 손실 쌓이는데...2분기 요금 두고 국회·세종·용산은 혼돈 속   \n",
       "2  \"한국가스공사\" + 손실          '전기 팔수록 손해' 한전, 올 1분기 5조원대 영업손실 예고   \n",
       "3  \"한국가스공사\" + 손실          '전기 팔수록 손해' 한전, 올 1분기 5조원대 영업손실 예고   \n",
       "4  \"한국가스공사\" + 손실      與 “文정부 탓 한전 추가손실…요금 올리려면 한전 자구노력 선행돼야”   \n",
       "\n",
       "                  date                                    cleaned_content  \\\n",
       "0  2023-05-10 04:09:12   SMP 상한제로 1조대 손실 추산구입 155원 판매 120원 역마진구조금주 전기가...   \n",
       "1  2023-05-11 19:01:01   관련법규정에 없는 당정협의로 2분기 요금 40일째 미궁20조 자구책에도 여당 뼈 ...   \n",
       "2  2023-05-09 06:01:03   12일께 1분기 실적 공개올해 8조7천억원 적자 전망가스공사 미수금도 11조원대로...   \n",
       "3  2023-05-09 08:54:43       원가보다 싼 전력 공급의 장기화로 적자가 불어나고 있는 한국전력은 올해 1...   \n",
       "4  2023-04-25 06:02:02   에너지미래포럼 25일 에너지정책 토론회박대출 국민의힘 정책위 의장 재차 강조에너지...   \n",
       "\n",
       "     output  output_kobert  \n",
       "0  0.558287       0.459686  \n",
       "1  0.463708       0.473964  \n",
       "2  0.556163       0.476445  \n",
       "3  0.450437       0.437062  \n",
       "4  0.535732       0.473413  "
      ]
     },
     "execution_count": 11,
     "metadata": {},
     "output_type": "execute_result"
    }
   ],
   "source": [
    "df.head()"
   ]
  },
  {
   "attachments": {},
   "cell_type": "markdown",
   "metadata": {},
   "source": [
    "# 추가 처리"
   ]
  },
  {
   "cell_type": "code",
   "execution_count": 12,
   "metadata": {},
   "outputs": [
    {
     "data": {
      "text/html": [
       "<div>\n",
       "<style scoped>\n",
       "    .dataframe tbody tr th:only-of-type {\n",
       "        vertical-align: middle;\n",
       "    }\n",
       "\n",
       "    .dataframe tbody tr th {\n",
       "        vertical-align: top;\n",
       "    }\n",
       "\n",
       "    .dataframe thead th {\n",
       "        text-align: right;\n",
       "    }\n",
       "</style>\n",
       "<table border=\"1\" class=\"dataframe\">\n",
       "  <thead>\n",
       "    <tr style=\"text-align: right;\">\n",
       "      <th></th>\n",
       "      <th>keyword</th>\n",
       "      <th>title</th>\n",
       "      <th>date</th>\n",
       "      <th>cleaned_content</th>\n",
       "      <th>output</th>\n",
       "      <th>output_kobert</th>\n",
       "      <th>기업</th>\n",
       "      <th>kwd</th>\n",
       "    </tr>\n",
       "  </thead>\n",
       "  <tbody>\n",
       "    <tr>\n",
       "      <th>0</th>\n",
       "      <td>\"한국가스공사\" + 손실</td>\n",
       "      <td>[단독] ‘30조 적자’ 한전, 빚내 민간발전사 손실 메운다</td>\n",
       "      <td>2023-05-10 04:09:12</td>\n",
       "      <td>SMP 상한제로 1조대 손실 추산구입 155원 판매 120원 역마진구조금주 전기가...</td>\n",
       "      <td>0.558287</td>\n",
       "      <td>0.459686</td>\n",
       "      <td>한국가스공사</td>\n",
       "      <td>손실</td>\n",
       "    </tr>\n",
       "    <tr>\n",
       "      <th>1</th>\n",
       "      <td>\"한국가스공사\" + 손실</td>\n",
       "      <td>한전·가스공사 손실 쌓이는데...2분기 요금 두고 국회·세종·용산은 혼돈 속</td>\n",
       "      <td>2023-05-11 19:01:01</td>\n",
       "      <td>관련법규정에 없는 당정협의로 2분기 요금 40일째 미궁20조 자구책에도 여당 뼈 ...</td>\n",
       "      <td>0.463708</td>\n",
       "      <td>0.473964</td>\n",
       "      <td>한국가스공사</td>\n",
       "      <td>손실</td>\n",
       "    </tr>\n",
       "    <tr>\n",
       "      <th>2</th>\n",
       "      <td>\"한국가스공사\" + 손실</td>\n",
       "      <td>'전기 팔수록 손해' 한전, 올 1분기 5조원대 영업손실 예고</td>\n",
       "      <td>2023-05-09 06:01:03</td>\n",
       "      <td>12일께 1분기 실적 공개올해 8조7천억원 적자 전망가스공사 미수금도 11조원대로...</td>\n",
       "      <td>0.556163</td>\n",
       "      <td>0.476445</td>\n",
       "      <td>한국가스공사</td>\n",
       "      <td>손실</td>\n",
       "    </tr>\n",
       "    <tr>\n",
       "      <th>3</th>\n",
       "      <td>\"한국가스공사\" + 손실</td>\n",
       "      <td>'전기 팔수록 손해' 한전, 올 1분기 5조원대 영업손실 예고</td>\n",
       "      <td>2023-05-09 08:54:43</td>\n",
       "      <td>원가보다 싼 전력 공급의 장기화로 적자가 불어나고 있는 한국전력은 올해 1...</td>\n",
       "      <td>0.450437</td>\n",
       "      <td>0.437062</td>\n",
       "      <td>한국가스공사</td>\n",
       "      <td>손실</td>\n",
       "    </tr>\n",
       "    <tr>\n",
       "      <th>4</th>\n",
       "      <td>\"한국가스공사\" + 손실</td>\n",
       "      <td>與 “文정부 탓 한전 추가손실…요금 올리려면 한전 자구노력 선행돼야”</td>\n",
       "      <td>2023-04-25 06:02:02</td>\n",
       "      <td>에너지미래포럼 25일 에너지정책 토론회박대출 국민의힘 정책위 의장 재차 강조에너지...</td>\n",
       "      <td>0.535732</td>\n",
       "      <td>0.473413</td>\n",
       "      <td>한국가스공사</td>\n",
       "      <td>손실</td>\n",
       "    </tr>\n",
       "  </tbody>\n",
       "</table>\n",
       "</div>"
      ],
      "text/plain": [
       "         keyword                                       title  \\\n",
       "0  \"한국가스공사\" + 손실           [단독] ‘30조 적자’ 한전, 빚내 민간발전사 손실 메운다   \n",
       "1  \"한국가스공사\" + 손실  한전·가스공사 손실 쌓이는데...2분기 요금 두고 국회·세종·용산은 혼돈 속   \n",
       "2  \"한국가스공사\" + 손실          '전기 팔수록 손해' 한전, 올 1분기 5조원대 영업손실 예고   \n",
       "3  \"한국가스공사\" + 손실          '전기 팔수록 손해' 한전, 올 1분기 5조원대 영업손실 예고   \n",
       "4  \"한국가스공사\" + 손실      與 “文정부 탓 한전 추가손실…요금 올리려면 한전 자구노력 선행돼야”   \n",
       "\n",
       "                  date                                    cleaned_content  \\\n",
       "0  2023-05-10 04:09:12   SMP 상한제로 1조대 손실 추산구입 155원 판매 120원 역마진구조금주 전기가...   \n",
       "1  2023-05-11 19:01:01   관련법규정에 없는 당정협의로 2분기 요금 40일째 미궁20조 자구책에도 여당 뼈 ...   \n",
       "2  2023-05-09 06:01:03   12일께 1분기 실적 공개올해 8조7천억원 적자 전망가스공사 미수금도 11조원대로...   \n",
       "3  2023-05-09 08:54:43       원가보다 싼 전력 공급의 장기화로 적자가 불어나고 있는 한국전력은 올해 1...   \n",
       "4  2023-04-25 06:02:02   에너지미래포럼 25일 에너지정책 토론회박대출 국민의힘 정책위 의장 재차 강조에너지...   \n",
       "\n",
       "     output  output_kobert      기업 kwd  \n",
       "0  0.558287       0.459686  한국가스공사  손실  \n",
       "1  0.463708       0.473964  한국가스공사  손실  \n",
       "2  0.556163       0.476445  한국가스공사  손실  \n",
       "3  0.450437       0.437062  한국가스공사  손실  \n",
       "4  0.535732       0.473413  한국가스공사  손실  "
      ]
     },
     "execution_count": 12,
     "metadata": {},
     "output_type": "execute_result"
    }
   ],
   "source": [
    "# 문자열 분할\n",
    "df['기업'], df['kwd'] = zip(*df['keyword'].apply(lambda x: x.split(' + ', 1)))\n",
    "\n",
    "# 따옴표 제거\n",
    "df['기업'] = df['기업'].str.strip('\"')\n",
    "\n",
    "df.head()"
   ]
  },
  {
   "cell_type": "code",
   "execution_count": 13,
   "metadata": {},
   "outputs": [
    {
     "data": {
      "text/plain": [
       "array(['한국가스공사', '케이티앤지', '하나투어', '신세계인터내셔날', '카카오', 'LG유플러스', '현대백화점',\n",
       "       '한섬', '한국투자금융지주', '강원랜드', '네이버', '현대로템', '한국항공우주산업', '키움증권',\n",
       "       '한화시스템', '롯데관광개발', '에이치디현대인프라코어', '대우조선해양', '대우건설', '포스코인터내셔널',\n",
       "       'LG화학', 'LG생활건강', '현대글로비스', '현대홈쇼핑', '신한금융지주회사', 'LG전자', '티케이지휴켐스',\n",
       "       '대웅제약', '금호타이어', '엘아이지넥스원', 'GS', '셀트리온', '농심', '삼양식품', 'CJ',\n",
       "       '오리온홀딩스', '롯데지주', '대상', '오뚜기', '두산', '롯데칠성음료', '하이트진로', '효성',\n",
       "       '태광산업', '지누스', '대한유화', '금양', 'LG', '한화솔루션', '롯데케미칼', '롯데정밀화학',\n",
       "       'DB하이텍', '한올바이오파마', '녹십자홀딩스', '대웅', '보령', '유한양행', '한미사이언스',\n",
       "       '아모레퍼시픽그룹', 'SKC', '한화', 'S-OIL', '한국앤컴퍼니', '한솔케미칼', '금호석유화학',\n",
       "       '신풍제약', '녹십자', '아이에스동서', '쌍용씨앤이', '동서', '동국제강', '현대제철', '영풍',\n",
       "       '코스모화학', '케이지스틸', '고려아연', '포스코홀딩스', '롯데에너지머티리얼즈', '한샘', '현대모비스',\n",
       "       '삼성중공업', '현대엘리베이터', 'LS', '대한전선', '삼성SDI', '하나금융지주', '엘지이노텍',\n",
       "       '삼성전자', '삼성전기', '한화에어로스페이스', '현대미포조선', '기아', '현대자동차', '현대위아',\n",
       "       '세방전지', '에스엘', '두산에너빌리티', '에이치디한국조선해양', '에스케이하이닉스', '엘지디스플레이',\n",
       "       '명신산업', '하이브', '한온시스템', '아모레퍼시픽', '엘에스일렉트릭', '동원시스템즈', '한국전력공사',\n",
       "       '후성', '그랜드코리아레저', 'SK이노베이션', 'CJ제일제당', '케이씨씨', '디엘', '지에스건설',\n",
       "       '현대건설', '한전KPS', '포스코퓨처엠', 'LX인터내셔널', 'SK네트웍스', '코웨이', '롯데쇼핑',\n",
       "       '신세계', '엔씨소프트', '호텔신라', '휠라홀딩스', '씨제이대한통운', '아시아나항공', '팬오션',\n",
       "       '에이치엠엠', '지에스리테일', '삼성물산', 'SK텔레콤', '케이티', 'SK', '제일기획', '삼성엔지니어링',\n",
       "       '한국전력기술', '에스원', '삼성에스디에스', '삼성증권', '중소기업은행', '미래에셋증권', '엔에이치투자증권',\n",
       "       '한화생명보험', '삼성생명보험', '삼성화재해상보험', 'DB손해보험', '현대해상화재보험', '대한항공',\n",
       "       '삼성카드', '씨에스윈드', '풍산', '피아이첨단소재', 'KB금융지주', '한세실업', '영원무역', '크래프톤',\n",
       "       '코오롱인더스트리', '한미약품', '에스디바이오센서', 'BNK금융지주', '이마트', '메리츠금융지주',\n",
       "       '에스케이바이오팜', 'DGB금융지주', '삼성바이오로직스', '넷마블', '카카오뱅크', '더블유게임즈',\n",
       "       '한국타이어앤테크놀로지', '한국콜마', '일진하이솔루스', '카카오페이', '에이치디현대', '오리온',\n",
       "       '롯데웰푸드', '비지에프리테일', '케이카', '에스케이케미칼', '쿠쿠홈시스', 'JB금융지주', '한진칼',\n",
       "       '에이치디씨현대산업개발', '효성첨단소재', '효성티앤씨', '한일시멘트', '에스케이바이오사이언스', '우리금융지주',\n",
       "       '에스케이아이이테크놀로지', '에이치디현대중공업', '두산퓨얼셀', '종근당', '코스맥스', '두산밥캣',\n",
       "       '엘지에너지솔루션', '에이치엘만도', '디엘이앤씨', '에프앤에프', '에스케이스퀘어', 'OCI홀딩스'],\n",
       "      dtype=object)"
      ]
     },
     "execution_count": 13,
     "metadata": {},
     "output_type": "execute_result"
    }
   ],
   "source": [
    "df.기업.unique()"
   ]
  },
  {
   "cell_type": "code",
   "execution_count": 14,
   "metadata": {},
   "outputs": [
    {
     "data": {
      "text/html": [
       "<div>\n",
       "<style scoped>\n",
       "    .dataframe tbody tr th:only-of-type {\n",
       "        vertical-align: middle;\n",
       "    }\n",
       "\n",
       "    .dataframe tbody tr th {\n",
       "        vertical-align: top;\n",
       "    }\n",
       "\n",
       "    .dataframe thead th {\n",
       "        text-align: right;\n",
       "    }\n",
       "</style>\n",
       "<table border=\"1\" class=\"dataframe\">\n",
       "  <thead>\n",
       "    <tr style=\"text-align: right;\">\n",
       "      <th></th>\n",
       "      <th>keyword</th>\n",
       "      <th>title</th>\n",
       "      <th>date</th>\n",
       "      <th>cleaned_content</th>\n",
       "      <th>output_klue</th>\n",
       "      <th>output_kobert</th>\n",
       "      <th>기업</th>\n",
       "      <th>kwd</th>\n",
       "    </tr>\n",
       "  </thead>\n",
       "  <tbody>\n",
       "    <tr>\n",
       "      <th>0</th>\n",
       "      <td>\"한국가스공사\" + 손실</td>\n",
       "      <td>[단독] ‘30조 적자’ 한전, 빚내 민간발전사 손실 메운다</td>\n",
       "      <td>2023-05-10 04:09:12</td>\n",
       "      <td>SMP 상한제로 1조대 손실 추산구입 155원 판매 120원 역마진구조금주 전기가...</td>\n",
       "      <td>0.558287</td>\n",
       "      <td>0.459686</td>\n",
       "      <td>한국가스공사</td>\n",
       "      <td>손실</td>\n",
       "    </tr>\n",
       "    <tr>\n",
       "      <th>1</th>\n",
       "      <td>\"한국가스공사\" + 손실</td>\n",
       "      <td>한전·가스공사 손실 쌓이는데...2분기 요금 두고 국회·세종·용산은 혼돈 속</td>\n",
       "      <td>2023-05-11 19:01:01</td>\n",
       "      <td>관련법규정에 없는 당정협의로 2분기 요금 40일째 미궁20조 자구책에도 여당 뼈 ...</td>\n",
       "      <td>0.463708</td>\n",
       "      <td>0.473964</td>\n",
       "      <td>한국가스공사</td>\n",
       "      <td>손실</td>\n",
       "    </tr>\n",
       "    <tr>\n",
       "      <th>2</th>\n",
       "      <td>\"한국가스공사\" + 손실</td>\n",
       "      <td>'전기 팔수록 손해' 한전, 올 1분기 5조원대 영업손실 예고</td>\n",
       "      <td>2023-05-09 06:01:03</td>\n",
       "      <td>12일께 1분기 실적 공개올해 8조7천억원 적자 전망가스공사 미수금도 11조원대로...</td>\n",
       "      <td>0.556163</td>\n",
       "      <td>0.476445</td>\n",
       "      <td>한국가스공사</td>\n",
       "      <td>손실</td>\n",
       "    </tr>\n",
       "    <tr>\n",
       "      <th>3</th>\n",
       "      <td>\"한국가스공사\" + 손실</td>\n",
       "      <td>'전기 팔수록 손해' 한전, 올 1분기 5조원대 영업손실 예고</td>\n",
       "      <td>2023-05-09 08:54:43</td>\n",
       "      <td>원가보다 싼 전력 공급의 장기화로 적자가 불어나고 있는 한국전력은 올해 1...</td>\n",
       "      <td>0.450437</td>\n",
       "      <td>0.437062</td>\n",
       "      <td>한국가스공사</td>\n",
       "      <td>손실</td>\n",
       "    </tr>\n",
       "    <tr>\n",
       "      <th>4</th>\n",
       "      <td>\"한국가스공사\" + 손실</td>\n",
       "      <td>與 “文정부 탓 한전 추가손실…요금 올리려면 한전 자구노력 선행돼야”</td>\n",
       "      <td>2023-04-25 06:02:02</td>\n",
       "      <td>에너지미래포럼 25일 에너지정책 토론회박대출 국민의힘 정책위 의장 재차 강조에너지...</td>\n",
       "      <td>0.535732</td>\n",
       "      <td>0.473413</td>\n",
       "      <td>한국가스공사</td>\n",
       "      <td>손실</td>\n",
       "    </tr>\n",
       "  </tbody>\n",
       "</table>\n",
       "</div>"
      ],
      "text/plain": [
       "         keyword                                       title  \\\n",
       "0  \"한국가스공사\" + 손실           [단독] ‘30조 적자’ 한전, 빚내 민간발전사 손실 메운다   \n",
       "1  \"한국가스공사\" + 손실  한전·가스공사 손실 쌓이는데...2분기 요금 두고 국회·세종·용산은 혼돈 속   \n",
       "2  \"한국가스공사\" + 손실          '전기 팔수록 손해' 한전, 올 1분기 5조원대 영업손실 예고   \n",
       "3  \"한국가스공사\" + 손실          '전기 팔수록 손해' 한전, 올 1분기 5조원대 영업손실 예고   \n",
       "4  \"한국가스공사\" + 손실      與 “文정부 탓 한전 추가손실…요금 올리려면 한전 자구노력 선행돼야”   \n",
       "\n",
       "                  date                                    cleaned_content  \\\n",
       "0  2023-05-10 04:09:12   SMP 상한제로 1조대 손실 추산구입 155원 판매 120원 역마진구조금주 전기가...   \n",
       "1  2023-05-11 19:01:01   관련법규정에 없는 당정협의로 2분기 요금 40일째 미궁20조 자구책에도 여당 뼈 ...   \n",
       "2  2023-05-09 06:01:03   12일께 1분기 실적 공개올해 8조7천억원 적자 전망가스공사 미수금도 11조원대로...   \n",
       "3  2023-05-09 08:54:43       원가보다 싼 전력 공급의 장기화로 적자가 불어나고 있는 한국전력은 올해 1...   \n",
       "4  2023-04-25 06:02:02   에너지미래포럼 25일 에너지정책 토론회박대출 국민의힘 정책위 의장 재차 강조에너지...   \n",
       "\n",
       "   output_klue  output_kobert      기업 kwd  \n",
       "0     0.558287       0.459686  한국가스공사  손실  \n",
       "1     0.463708       0.473964  한국가스공사  손실  \n",
       "2     0.556163       0.476445  한국가스공사  손실  \n",
       "3     0.450437       0.437062  한국가스공사  손실  \n",
       "4     0.535732       0.473413  한국가스공사  손실  "
      ]
     },
     "execution_count": 14,
     "metadata": {},
     "output_type": "execute_result"
    }
   ],
   "source": [
    "df = df.rename(columns = {'output':'output_klue'})\n",
    "df.head()"
   ]
  },
  {
   "cell_type": "code",
   "execution_count": 15,
   "metadata": {},
   "outputs": [
    {
     "data": {
      "text/plain": [
       "104290"
      ]
     },
     "execution_count": 15,
     "metadata": {},
     "output_type": "execute_result"
    }
   ],
   "source": [
    "len(df)"
   ]
  },
  {
   "cell_type": "code",
   "execution_count": 16,
   "metadata": {},
   "outputs": [
    {
     "data": {
      "text/plain": [
       "keyword            0\n",
       "title              0\n",
       "date               0\n",
       "cleaned_content    0\n",
       "output_klue        0\n",
       "output_kobert      0\n",
       "기업                 0\n",
       "kwd                0\n",
       "dtype: int64"
      ]
     },
     "execution_count": 16,
     "metadata": {},
     "output_type": "execute_result"
    }
   ],
   "source": [
    "df = df.dropna()\n",
    "df.isnull().sum()"
   ]
  },
  {
   "cell_type": "code",
   "execution_count": 17,
   "metadata": {},
   "outputs": [
    {
     "data": {
      "text/html": [
       "<div>\n",
       "<style scoped>\n",
       "    .dataframe tbody tr th:only-of-type {\n",
       "        vertical-align: middle;\n",
       "    }\n",
       "\n",
       "    .dataframe tbody tr th {\n",
       "        vertical-align: top;\n",
       "    }\n",
       "\n",
       "    .dataframe thead th {\n",
       "        text-align: right;\n",
       "    }\n",
       "</style>\n",
       "<table border=\"1\" class=\"dataframe\">\n",
       "  <thead>\n",
       "    <tr style=\"text-align: right;\">\n",
       "      <th></th>\n",
       "      <th>keyword</th>\n",
       "      <th>title</th>\n",
       "      <th>date</th>\n",
       "      <th>cleaned_content</th>\n",
       "      <th>output_klue</th>\n",
       "      <th>output_kobert</th>\n",
       "      <th>기업</th>\n",
       "      <th>kwd</th>\n",
       "    </tr>\n",
       "  </thead>\n",
       "  <tbody>\n",
       "    <tr>\n",
       "      <th>0</th>\n",
       "      <td>\"한국가스공사\" + 손실</td>\n",
       "      <td>[단독] ‘30조 적자’ 한전, 빚내 민간발전사 손실 메운다</td>\n",
       "      <td>2023-05-10 04:09:12</td>\n",
       "      <td>SMP 상한제로 1조대 손실 추산구입 155원 판매 120원 역마진구조금주 전기가...</td>\n",
       "      <td>0.558287</td>\n",
       "      <td>0.459686</td>\n",
       "      <td>한국가스공사</td>\n",
       "      <td>손실</td>\n",
       "    </tr>\n",
       "    <tr>\n",
       "      <th>1</th>\n",
       "      <td>\"한국가스공사\" + 손실</td>\n",
       "      <td>한전·가스공사 손실 쌓이는데...2분기 요금 두고 국회·세종·용산은 혼돈 속</td>\n",
       "      <td>2023-05-11 19:01:01</td>\n",
       "      <td>관련법규정에 없는 당정협의로 2분기 요금 40일째 미궁20조 자구책에도 여당 뼈 ...</td>\n",
       "      <td>0.463708</td>\n",
       "      <td>0.473964</td>\n",
       "      <td>한국가스공사</td>\n",
       "      <td>손실</td>\n",
       "    </tr>\n",
       "    <tr>\n",
       "      <th>2</th>\n",
       "      <td>\"한국가스공사\" + 손실</td>\n",
       "      <td>'전기 팔수록 손해' 한전, 올 1분기 5조원대 영업손실 예고</td>\n",
       "      <td>2023-05-09 06:01:03</td>\n",
       "      <td>12일께 1분기 실적 공개올해 8조7천억원 적자 전망가스공사 미수금도 11조원대로...</td>\n",
       "      <td>0.556163</td>\n",
       "      <td>0.476445</td>\n",
       "      <td>한국가스공사</td>\n",
       "      <td>손실</td>\n",
       "    </tr>\n",
       "    <tr>\n",
       "      <th>3</th>\n",
       "      <td>\"한국가스공사\" + 손실</td>\n",
       "      <td>'전기 팔수록 손해' 한전, 올 1분기 5조원대 영업손실 예고</td>\n",
       "      <td>2023-05-09 08:54:43</td>\n",
       "      <td>원가보다 싼 전력 공급의 장기화로 적자가 불어나고 있는 한국전력은 올해 1...</td>\n",
       "      <td>0.450437</td>\n",
       "      <td>0.437062</td>\n",
       "      <td>한국가스공사</td>\n",
       "      <td>손실</td>\n",
       "    </tr>\n",
       "    <tr>\n",
       "      <th>4</th>\n",
       "      <td>\"한국가스공사\" + 손실</td>\n",
       "      <td>與 “文정부 탓 한전 추가손실…요금 올리려면 한전 자구노력 선행돼야”</td>\n",
       "      <td>2023-04-25 06:02:02</td>\n",
       "      <td>에너지미래포럼 25일 에너지정책 토론회박대출 국민의힘 정책위 의장 재차 강조에너지...</td>\n",
       "      <td>0.535732</td>\n",
       "      <td>0.473413</td>\n",
       "      <td>한국가스공사</td>\n",
       "      <td>손실</td>\n",
       "    </tr>\n",
       "  </tbody>\n",
       "</table>\n",
       "</div>"
      ],
      "text/plain": [
       "         keyword                                       title  \\\n",
       "0  \"한국가스공사\" + 손실           [단독] ‘30조 적자’ 한전, 빚내 민간발전사 손실 메운다   \n",
       "1  \"한국가스공사\" + 손실  한전·가스공사 손실 쌓이는데...2분기 요금 두고 국회·세종·용산은 혼돈 속   \n",
       "2  \"한국가스공사\" + 손실          '전기 팔수록 손해' 한전, 올 1분기 5조원대 영업손실 예고   \n",
       "3  \"한국가스공사\" + 손실          '전기 팔수록 손해' 한전, 올 1분기 5조원대 영업손실 예고   \n",
       "4  \"한국가스공사\" + 손실      與 “文정부 탓 한전 추가손실…요금 올리려면 한전 자구노력 선행돼야”   \n",
       "\n",
       "                  date                                    cleaned_content  \\\n",
       "0  2023-05-10 04:09:12   SMP 상한제로 1조대 손실 추산구입 155원 판매 120원 역마진구조금주 전기가...   \n",
       "1  2023-05-11 19:01:01   관련법규정에 없는 당정협의로 2분기 요금 40일째 미궁20조 자구책에도 여당 뼈 ...   \n",
       "2  2023-05-09 06:01:03   12일께 1분기 실적 공개올해 8조7천억원 적자 전망가스공사 미수금도 11조원대로...   \n",
       "3  2023-05-09 08:54:43       원가보다 싼 전력 공급의 장기화로 적자가 불어나고 있는 한국전력은 올해 1...   \n",
       "4  2023-04-25 06:02:02   에너지미래포럼 25일 에너지정책 토론회박대출 국민의힘 정책위 의장 재차 강조에너지...   \n",
       "\n",
       "   output_klue  output_kobert      기업 kwd  \n",
       "0     0.558287       0.459686  한국가스공사  손실  \n",
       "1     0.463708       0.473964  한국가스공사  손실  \n",
       "2     0.556163       0.476445  한국가스공사  손실  \n",
       "3     0.450437       0.437062  한국가스공사  손실  \n",
       "4     0.535732       0.473413  한국가스공사  손실  "
      ]
     },
     "execution_count": 17,
     "metadata": {},
     "output_type": "execute_result"
    }
   ],
   "source": [
    "df = df.query('date != \"None\"')\n",
    "df.head()"
   ]
  },
  {
   "cell_type": "code",
   "execution_count": 18,
   "metadata": {},
   "outputs": [
    {
     "data": {
      "text/html": [
       "<div>\n",
       "<style scoped>\n",
       "    .dataframe tbody tr th:only-of-type {\n",
       "        vertical-align: middle;\n",
       "    }\n",
       "\n",
       "    .dataframe tbody tr th {\n",
       "        vertical-align: top;\n",
       "    }\n",
       "\n",
       "    .dataframe thead th {\n",
       "        text-align: right;\n",
       "    }\n",
       "</style>\n",
       "<table border=\"1\" class=\"dataframe\">\n",
       "  <thead>\n",
       "    <tr style=\"text-align: right;\">\n",
       "      <th></th>\n",
       "      <th>keyword</th>\n",
       "      <th>title</th>\n",
       "      <th>date</th>\n",
       "      <th>cleaned_content</th>\n",
       "      <th>output_klue</th>\n",
       "      <th>output_kobert</th>\n",
       "      <th>기업</th>\n",
       "      <th>kwd</th>\n",
       "      <th>date_new</th>\n",
       "    </tr>\n",
       "  </thead>\n",
       "  <tbody>\n",
       "    <tr>\n",
       "      <th>0</th>\n",
       "      <td>\"한국가스공사\" + 손실</td>\n",
       "      <td>[단독] ‘30조 적자’ 한전, 빚내 민간발전사 손실 메운다</td>\n",
       "      <td>2023-05-10 04:09:12</td>\n",
       "      <td>SMP 상한제로 1조대 손실 추산구입 155원 판매 120원 역마진구조금주 전기가...</td>\n",
       "      <td>0.558287</td>\n",
       "      <td>0.459686</td>\n",
       "      <td>한국가스공사</td>\n",
       "      <td>손실</td>\n",
       "      <td>2023-05-10</td>\n",
       "    </tr>\n",
       "    <tr>\n",
       "      <th>1</th>\n",
       "      <td>\"한국가스공사\" + 손실</td>\n",
       "      <td>한전·가스공사 손실 쌓이는데...2분기 요금 두고 국회·세종·용산은 혼돈 속</td>\n",
       "      <td>2023-05-11 19:01:01</td>\n",
       "      <td>관련법규정에 없는 당정협의로 2분기 요금 40일째 미궁20조 자구책에도 여당 뼈 ...</td>\n",
       "      <td>0.463708</td>\n",
       "      <td>0.473964</td>\n",
       "      <td>한국가스공사</td>\n",
       "      <td>손실</td>\n",
       "      <td>2023-05-11</td>\n",
       "    </tr>\n",
       "    <tr>\n",
       "      <th>2</th>\n",
       "      <td>\"한국가스공사\" + 손실</td>\n",
       "      <td>'전기 팔수록 손해' 한전, 올 1분기 5조원대 영업손실 예고</td>\n",
       "      <td>2023-05-09 06:01:03</td>\n",
       "      <td>12일께 1분기 실적 공개올해 8조7천억원 적자 전망가스공사 미수금도 11조원대로...</td>\n",
       "      <td>0.556163</td>\n",
       "      <td>0.476445</td>\n",
       "      <td>한국가스공사</td>\n",
       "      <td>손실</td>\n",
       "      <td>2023-05-09</td>\n",
       "    </tr>\n",
       "    <tr>\n",
       "      <th>3</th>\n",
       "      <td>\"한국가스공사\" + 손실</td>\n",
       "      <td>'전기 팔수록 손해' 한전, 올 1분기 5조원대 영업손실 예고</td>\n",
       "      <td>2023-05-09 08:54:43</td>\n",
       "      <td>원가보다 싼 전력 공급의 장기화로 적자가 불어나고 있는 한국전력은 올해 1...</td>\n",
       "      <td>0.450437</td>\n",
       "      <td>0.437062</td>\n",
       "      <td>한국가스공사</td>\n",
       "      <td>손실</td>\n",
       "      <td>2023-05-09</td>\n",
       "    </tr>\n",
       "    <tr>\n",
       "      <th>4</th>\n",
       "      <td>\"한국가스공사\" + 손실</td>\n",
       "      <td>與 “文정부 탓 한전 추가손실…요금 올리려면 한전 자구노력 선행돼야”</td>\n",
       "      <td>2023-04-25 06:02:02</td>\n",
       "      <td>에너지미래포럼 25일 에너지정책 토론회박대출 국민의힘 정책위 의장 재차 강조에너지...</td>\n",
       "      <td>0.535732</td>\n",
       "      <td>0.473413</td>\n",
       "      <td>한국가스공사</td>\n",
       "      <td>손실</td>\n",
       "      <td>2023-04-25</td>\n",
       "    </tr>\n",
       "  </tbody>\n",
       "</table>\n",
       "</div>"
      ],
      "text/plain": [
       "         keyword                                       title  \\\n",
       "0  \"한국가스공사\" + 손실           [단독] ‘30조 적자’ 한전, 빚내 민간발전사 손실 메운다   \n",
       "1  \"한국가스공사\" + 손실  한전·가스공사 손실 쌓이는데...2분기 요금 두고 국회·세종·용산은 혼돈 속   \n",
       "2  \"한국가스공사\" + 손실          '전기 팔수록 손해' 한전, 올 1분기 5조원대 영업손실 예고   \n",
       "3  \"한국가스공사\" + 손실          '전기 팔수록 손해' 한전, 올 1분기 5조원대 영업손실 예고   \n",
       "4  \"한국가스공사\" + 손실      與 “文정부 탓 한전 추가손실…요금 올리려면 한전 자구노력 선행돼야”   \n",
       "\n",
       "                  date                                    cleaned_content  \\\n",
       "0  2023-05-10 04:09:12   SMP 상한제로 1조대 손실 추산구입 155원 판매 120원 역마진구조금주 전기가...   \n",
       "1  2023-05-11 19:01:01   관련법규정에 없는 당정협의로 2분기 요금 40일째 미궁20조 자구책에도 여당 뼈 ...   \n",
       "2  2023-05-09 06:01:03   12일께 1분기 실적 공개올해 8조7천억원 적자 전망가스공사 미수금도 11조원대로...   \n",
       "3  2023-05-09 08:54:43       원가보다 싼 전력 공급의 장기화로 적자가 불어나고 있는 한국전력은 올해 1...   \n",
       "4  2023-04-25 06:02:02   에너지미래포럼 25일 에너지정책 토론회박대출 국민의힘 정책위 의장 재차 강조에너지...   \n",
       "\n",
       "   output_klue  output_kobert      기업 kwd    date_new  \n",
       "0     0.558287       0.459686  한국가스공사  손실  2023-05-10  \n",
       "1     0.463708       0.473964  한국가스공사  손실  2023-05-11  \n",
       "2     0.556163       0.476445  한국가스공사  손실  2023-05-09  \n",
       "3     0.450437       0.437062  한국가스공사  손실  2023-05-09  \n",
       "4     0.535732       0.473413  한국가스공사  손실  2023-04-25  "
      ]
     },
     "execution_count": 18,
     "metadata": {},
     "output_type": "execute_result"
    }
   ],
   "source": [
    "df['date_new'] = pd.to_datetime(df['date'], errors='coerce').dt.date # 날짜와 시간으로 변환\n",
    "df.head()\n"
   ]
  },
  {
   "cell_type": "code",
   "execution_count": 29,
   "metadata": {},
   "outputs": [],
   "source": [
    "df.to_csv('output_0620_v2.csv', index = False)"
   ]
  },
  {
   "cell_type": "code",
   "execution_count": null,
   "metadata": {},
   "outputs": [],
   "source": []
  }
 ],
 "metadata": {
  "kernelspec": {
   "display_name": "cuda_new",
   "language": "python",
   "name": "python3"
  },
  "language_info": {
   "codemirror_mode": {
    "name": "ipython",
    "version": 3
   },
   "file_extension": ".py",
   "mimetype": "text/x-python",
   "name": "python",
   "nbconvert_exporter": "python",
   "pygments_lexer": "ipython3",
   "version": "3.9.16"
  },
  "toc": {
   "base_numbering": 1,
   "nav_menu": {},
   "number_sections": true,
   "sideBar": true,
   "skip_h1_title": false,
   "title_cell": "Table of Contents",
   "title_sidebar": "Contents",
   "toc_cell": false,
   "toc_position": {},
   "toc_section_display": true,
   "toc_window_display": false
  }
 },
 "nbformat": 4,
 "nbformat_minor": 2
}
