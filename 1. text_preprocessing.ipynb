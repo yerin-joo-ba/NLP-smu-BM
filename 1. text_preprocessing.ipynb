{
 "cells": [
  {
   "cell_type": "code",
   "execution_count": 1,
   "metadata": {},
   "outputs": [],
   "source": [
    "import pandas as pd"
   ]
  },
  {
   "cell_type": "code",
   "execution_count": 2,
   "metadata": {},
   "outputs": [
    {
     "data": {
      "text/plain": [
       "'c:\\\\Users\\\\jjjen\\\\추천시스템\\\\Audit'"
      ]
     },
     "execution_count": 2,
     "metadata": {},
     "output_type": "execute_result"
    }
   ],
   "source": [
    "import os\n",
    "os.getcwd()"
   ]
  },
  {
   "cell_type": "code",
   "execution_count": 3,
   "metadata": {},
   "outputs": [
    {
     "data": {
      "text/html": [
       "<div>\n",
       "<style scoped>\n",
       "    .dataframe tbody tr th:only-of-type {\n",
       "        vertical-align: middle;\n",
       "    }\n",
       "\n",
       "    .dataframe tbody tr th {\n",
       "        vertical-align: top;\n",
       "    }\n",
       "\n",
       "    .dataframe thead th {\n",
       "        text-align: right;\n",
       "    }\n",
       "</style>\n",
       "<table border=\"1\" class=\"dataframe\">\n",
       "  <thead>\n",
       "    <tr style=\"text-align: right;\">\n",
       "      <th></th>\n",
       "      <th>keyword</th>\n",
       "      <th>title</th>\n",
       "      <th>content</th>\n",
       "      <th>date</th>\n",
       "    </tr>\n",
       "  </thead>\n",
       "  <tbody>\n",
       "    <tr>\n",
       "      <th>0</th>\n",
       "      <td>\"한국가스공사\" + 손실</td>\n",
       "      <td>[단독] ‘30조 적자’ 한전, 빚내 민간발전사 손실 메운다</td>\n",
       "      <td>[\\nSMP 상한제로 1조대 손실 추산구입 155원 판매 120원 역마진구조금주 전...</td>\n",
       "      <td>2023-05-10 04:09:12</td>\n",
       "    </tr>\n",
       "    <tr>\n",
       "      <th>1</th>\n",
       "      <td>\"한국가스공사\" + 손실</td>\n",
       "      <td>한전·가스공사 손실 쌓이는데...2분기 요금 두고 국회·세종·용산은 혼돈 속</td>\n",
       "      <td>[\\n관련법·규정에 없는 당정협의로 2분기 요금 40일째 미궁'20조+α 자구책'에...</td>\n",
       "      <td>2023-05-11 19:01:01</td>\n",
       "    </tr>\n",
       "    <tr>\n",
       "      <th>2</th>\n",
       "      <td>\"한국가스공사\" + 손실</td>\n",
       "      <td>'전기 팔수록 손해' 한전, 올 1분기 5조원대 영업손실 예고</td>\n",
       "      <td>[\\n12일께 1분기 실적 공개…올해 8조7천억원 적자 전망가스공사 미수금도 11조...</td>\n",
       "      <td>2023-05-09 06:01:03</td>\n",
       "    </tr>\n",
       "    <tr>\n",
       "      <th>3</th>\n",
       "      <td>\"한국가스공사\" + 손실</td>\n",
       "      <td>'전기 팔수록 손해' 한전, 올 1분기 5조원대 영업손실 예고</td>\n",
       "      <td>[\\n\\n\\n\\n\\n원가보다 싼 전력 공급의 장기화로 적자가 불어나고 있는 한국전력...</td>\n",
       "      <td>2023-05-09 08:54:43</td>\n",
       "    </tr>\n",
       "    <tr>\n",
       "      <th>4</th>\n",
       "      <td>\"한국가스공사\" + 손실</td>\n",
       "      <td>與 “文정부 탓 한전 추가손실…요금 올리려면 한전 자구노력 선행돼야”</td>\n",
       "      <td>[\\n에너지미래포럼 25일 에너지정책 토론회박대출 국민의힘 정책위 의장, 재차 강조...</td>\n",
       "      <td>2023-04-25 06:02:02</td>\n",
       "    </tr>\n",
       "  </tbody>\n",
       "</table>\n",
       "</div>"
      ],
      "text/plain": [
       "         keyword                                       title  \\\n",
       "0  \"한국가스공사\" + 손실           [단독] ‘30조 적자’ 한전, 빚내 민간발전사 손실 메운다   \n",
       "1  \"한국가스공사\" + 손실  한전·가스공사 손실 쌓이는데...2분기 요금 두고 국회·세종·용산은 혼돈 속   \n",
       "2  \"한국가스공사\" + 손실          '전기 팔수록 손해' 한전, 올 1분기 5조원대 영업손실 예고   \n",
       "3  \"한국가스공사\" + 손실          '전기 팔수록 손해' 한전, 올 1분기 5조원대 영업손실 예고   \n",
       "4  \"한국가스공사\" + 손실      與 “文정부 탓 한전 추가손실…요금 올리려면 한전 자구노력 선행돼야”   \n",
       "\n",
       "                                             content                 date  \n",
       "0  [\\nSMP 상한제로 1조대 손실 추산구입 155원 판매 120원 역마진구조금주 전...  2023-05-10 04:09:12  \n",
       "1  [\\n관련법·규정에 없는 당정협의로 2분기 요금 40일째 미궁'20조+α 자구책'에...  2023-05-11 19:01:01  \n",
       "2  [\\n12일께 1분기 실적 공개…올해 8조7천억원 적자 전망가스공사 미수금도 11조...  2023-05-09 06:01:03  \n",
       "3  [\\n\\n\\n\\n\\n원가보다 싼 전력 공급의 장기화로 적자가 불어나고 있는 한국전력...  2023-05-09 08:54:43  \n",
       "4  [\\n에너지미래포럼 25일 에너지정책 토론회박대출 국민의힘 정책위 의장, 재차 강조...  2023-04-25 06:02:02  "
      ]
     },
     "execution_count": 3,
     "metadata": {},
     "output_type": "execute_result"
    }
   ],
   "source": [
    "df_raw = pd.read_csv('audit_data/audit_data_final.csv', index_col=0)\n",
    "df_raw.head()"
   ]
  },
  {
   "cell_type": "code",
   "execution_count": 4,
   "metadata": {},
   "outputs": [
    {
     "data": {
      "text/plain": [
       "3272115"
      ]
     },
     "execution_count": 4,
     "metadata": {},
     "output_type": "execute_result"
    }
   ],
   "source": [
    "len(df_raw)"
   ]
  },
  {
   "cell_type": "code",
   "execution_count": 5,
   "metadata": {},
   "outputs": [],
   "source": [
    "df = df_raw.drop_duplicates().dropna()"
   ]
  },
  {
   "attachments": {},
   "cell_type": "markdown",
   "metadata": {},
   "source": [
    "# 텍스트 전처리"
   ]
  },
  {
   "cell_type": "code",
   "execution_count": 6,
   "metadata": {},
   "outputs": [],
   "source": [
    "#### 텍스트 전처리 ####\n",
    "import re\n",
    "\n",
    "def clean_text(text):\n",
    "    # 리스트에 저장된 문자열 제거\n",
    "    if text.startswith('[') and text.endswith(']'):\n",
    "        text = text[1:-1]\n",
    "    \n",
    "    # HTML 태그 제거\n",
    "    cleaned_text = re.sub('<.*?>', '', text)\n",
    "\n",
    "    # HTML 코드 제거 (&amp; 등)\n",
    "    cleaned_text = re.sub('&.*?;', '', cleaned_text)\n",
    "\n",
    "    # 특수문자 및 개행 문자 제거\n",
    "    cleaned_text = re.sub('[^가-힣0-9a-zA-Z\\\\s]', '', cleaned_text)\n",
    "    cleaned_text = re.sub('\\n', ' ', cleaned_text)\n",
    "    cleaned_text = re.sub('\\t', ' ', cleaned_text)\n",
    "    \n",
    "    return cleaned_text\n",
    "\n"
   ]
  },
  {
   "cell_type": "code",
   "execution_count": 7,
   "metadata": {},
   "outputs": [
    {
     "data": {
      "text/html": [
       "<div>\n",
       "<style scoped>\n",
       "    .dataframe tbody tr th:only-of-type {\n",
       "        vertical-align: middle;\n",
       "    }\n",
       "\n",
       "    .dataframe tbody tr th {\n",
       "        vertical-align: top;\n",
       "    }\n",
       "\n",
       "    .dataframe thead th {\n",
       "        text-align: right;\n",
       "    }\n",
       "</style>\n",
       "<table border=\"1\" class=\"dataframe\">\n",
       "  <thead>\n",
       "    <tr style=\"text-align: right;\">\n",
       "      <th></th>\n",
       "      <th>keyword</th>\n",
       "      <th>title</th>\n",
       "      <th>content</th>\n",
       "      <th>date</th>\n",
       "      <th>cleaned_content</th>\n",
       "    </tr>\n",
       "  </thead>\n",
       "  <tbody>\n",
       "    <tr>\n",
       "      <th>0</th>\n",
       "      <td>\"한국가스공사\" + 손실</td>\n",
       "      <td>[단독] ‘30조 적자’ 한전, 빚내 민간발전사 손실 메운다</td>\n",
       "      <td>[\\nSMP 상한제로 1조대 손실 추산구입 155원 판매 120원 역마진구조금주 전...</td>\n",
       "      <td>2023-05-10 04:09:12</td>\n",
       "      <td>SMP 상한제로 1조대 손실 추산구입 155원 판매 120원 역마진구조금주 전기가...</td>\n",
       "    </tr>\n",
       "    <tr>\n",
       "      <th>1</th>\n",
       "      <td>\"한국가스공사\" + 손실</td>\n",
       "      <td>한전·가스공사 손실 쌓이는데...2분기 요금 두고 국회·세종·용산은 혼돈 속</td>\n",
       "      <td>[\\n관련법·규정에 없는 당정협의로 2분기 요금 40일째 미궁'20조+α 자구책'에...</td>\n",
       "      <td>2023-05-11 19:01:01</td>\n",
       "      <td>관련법규정에 없는 당정협의로 2분기 요금 40일째 미궁20조 자구책에도 여당 뼈 ...</td>\n",
       "    </tr>\n",
       "    <tr>\n",
       "      <th>2</th>\n",
       "      <td>\"한국가스공사\" + 손실</td>\n",
       "      <td>'전기 팔수록 손해' 한전, 올 1분기 5조원대 영업손실 예고</td>\n",
       "      <td>[\\n12일께 1분기 실적 공개…올해 8조7천억원 적자 전망가스공사 미수금도 11조...</td>\n",
       "      <td>2023-05-09 06:01:03</td>\n",
       "      <td>12일께 1분기 실적 공개올해 8조7천억원 적자 전망가스공사 미수금도 11조원대로...</td>\n",
       "    </tr>\n",
       "    <tr>\n",
       "      <th>3</th>\n",
       "      <td>\"한국가스공사\" + 손실</td>\n",
       "      <td>'전기 팔수록 손해' 한전, 올 1분기 5조원대 영업손실 예고</td>\n",
       "      <td>[\\n\\n\\n\\n\\n원가보다 싼 전력 공급의 장기화로 적자가 불어나고 있는 한국전력...</td>\n",
       "      <td>2023-05-09 08:54:43</td>\n",
       "      <td>원가보다 싼 전력 공급의 장기화로 적자가 불어나고 있는 한국전력은 올해 1...</td>\n",
       "    </tr>\n",
       "    <tr>\n",
       "      <th>4</th>\n",
       "      <td>\"한국가스공사\" + 손실</td>\n",
       "      <td>與 “文정부 탓 한전 추가손실…요금 올리려면 한전 자구노력 선행돼야”</td>\n",
       "      <td>[\\n에너지미래포럼 25일 에너지정책 토론회박대출 국민의힘 정책위 의장, 재차 강조...</td>\n",
       "      <td>2023-04-25 06:02:02</td>\n",
       "      <td>에너지미래포럼 25일 에너지정책 토론회박대출 국민의힘 정책위 의장 재차 강조에너지...</td>\n",
       "    </tr>\n",
       "  </tbody>\n",
       "</table>\n",
       "</div>"
      ],
      "text/plain": [
       "         keyword                                       title  \\\n",
       "0  \"한국가스공사\" + 손실           [단독] ‘30조 적자’ 한전, 빚내 민간발전사 손실 메운다   \n",
       "1  \"한국가스공사\" + 손실  한전·가스공사 손실 쌓이는데...2분기 요금 두고 국회·세종·용산은 혼돈 속   \n",
       "2  \"한국가스공사\" + 손실          '전기 팔수록 손해' 한전, 올 1분기 5조원대 영업손실 예고   \n",
       "3  \"한국가스공사\" + 손실          '전기 팔수록 손해' 한전, 올 1분기 5조원대 영업손실 예고   \n",
       "4  \"한국가스공사\" + 손실      與 “文정부 탓 한전 추가손실…요금 올리려면 한전 자구노력 선행돼야”   \n",
       "\n",
       "                                             content                 date  \\\n",
       "0  [\\nSMP 상한제로 1조대 손실 추산구입 155원 판매 120원 역마진구조금주 전...  2023-05-10 04:09:12   \n",
       "1  [\\n관련법·규정에 없는 당정협의로 2분기 요금 40일째 미궁'20조+α 자구책'에...  2023-05-11 19:01:01   \n",
       "2  [\\n12일께 1분기 실적 공개…올해 8조7천억원 적자 전망가스공사 미수금도 11조...  2023-05-09 06:01:03   \n",
       "3  [\\n\\n\\n\\n\\n원가보다 싼 전력 공급의 장기화로 적자가 불어나고 있는 한국전력...  2023-05-09 08:54:43   \n",
       "4  [\\n에너지미래포럼 25일 에너지정책 토론회박대출 국민의힘 정책위 의장, 재차 강조...  2023-04-25 06:02:02   \n",
       "\n",
       "                                     cleaned_content  \n",
       "0   SMP 상한제로 1조대 손실 추산구입 155원 판매 120원 역마진구조금주 전기가...  \n",
       "1   관련법규정에 없는 당정협의로 2분기 요금 40일째 미궁20조 자구책에도 여당 뼈 ...  \n",
       "2   12일께 1분기 실적 공개올해 8조7천억원 적자 전망가스공사 미수금도 11조원대로...  \n",
       "3       원가보다 싼 전력 공급의 장기화로 적자가 불어나고 있는 한국전력은 올해 1...  \n",
       "4   에너지미래포럼 25일 에너지정책 토론회박대출 국민의힘 정책위 의장 재차 강조에너지...  "
      ]
     },
     "execution_count": 7,
     "metadata": {},
     "output_type": "execute_result"
    }
   ],
   "source": [
    "\n",
    "# 텍스트 전처리 실행\n",
    "df.loc[:,\"cleaned_content\"] = df.loc[:,'content'].apply(clean_text)\n",
    "df.head()\n"
   ]
  },
  {
   "cell_type": "code",
   "execution_count": 22,
   "metadata": {},
   "outputs": [
    {
     "data": {
      "text/html": [
       "<div>\n",
       "<style scoped>\n",
       "    .dataframe tbody tr th:only-of-type {\n",
       "        vertical-align: middle;\n",
       "    }\n",
       "\n",
       "    .dataframe tbody tr th {\n",
       "        vertical-align: top;\n",
       "    }\n",
       "\n",
       "    .dataframe thead th {\n",
       "        text-align: right;\n",
       "    }\n",
       "</style>\n",
       "<table border=\"1\" class=\"dataframe\">\n",
       "  <thead>\n",
       "    <tr style=\"text-align: right;\">\n",
       "      <th></th>\n",
       "      <th>keyword</th>\n",
       "      <th>title</th>\n",
       "      <th>date</th>\n",
       "      <th>cleaned_content</th>\n",
       "    </tr>\n",
       "  </thead>\n",
       "  <tbody>\n",
       "    <tr>\n",
       "      <th>0</th>\n",
       "      <td>\"한국가스공사\" + 손실</td>\n",
       "      <td>[단독] ‘30조 적자’ 한전, 빚내 민간발전사 손실 메운다</td>\n",
       "      <td>2023-05-10 04:09:12</td>\n",
       "      <td>SMP 상한제로 1조대 손실 추산구입 155원 판매 120원 역마진구조금주 전기가...</td>\n",
       "    </tr>\n",
       "    <tr>\n",
       "      <th>1</th>\n",
       "      <td>\"한국가스공사\" + 손실</td>\n",
       "      <td>한전·가스공사 손실 쌓이는데...2분기 요금 두고 국회·세종·용산은 혼돈 속</td>\n",
       "      <td>2023-05-11 19:01:01</td>\n",
       "      <td>관련법규정에 없는 당정협의로 2분기 요금 40일째 미궁20조 자구책에도 여당 뼈 ...</td>\n",
       "    </tr>\n",
       "    <tr>\n",
       "      <th>2</th>\n",
       "      <td>\"한국가스공사\" + 손실</td>\n",
       "      <td>'전기 팔수록 손해' 한전, 올 1분기 5조원대 영업손실 예고</td>\n",
       "      <td>2023-05-09 06:01:03</td>\n",
       "      <td>12일께 1분기 실적 공개올해 8조7천억원 적자 전망가스공사 미수금도 11조원대로...</td>\n",
       "    </tr>\n",
       "    <tr>\n",
       "      <th>3</th>\n",
       "      <td>\"한국가스공사\" + 손실</td>\n",
       "      <td>'전기 팔수록 손해' 한전, 올 1분기 5조원대 영업손실 예고</td>\n",
       "      <td>2023-05-09 08:54:43</td>\n",
       "      <td>원가보다 싼 전력 공급의 장기화로 적자가 불어나고 있는 한국전력은 올해 1...</td>\n",
       "    </tr>\n",
       "    <tr>\n",
       "      <th>4</th>\n",
       "      <td>\"한국가스공사\" + 손실</td>\n",
       "      <td>與 “文정부 탓 한전 추가손실…요금 올리려면 한전 자구노력 선행돼야”</td>\n",
       "      <td>2023-04-25 06:02:02</td>\n",
       "      <td>에너지미래포럼 25일 에너지정책 토론회박대출 국민의힘 정책위 의장 재차 강조에너지...</td>\n",
       "    </tr>\n",
       "  </tbody>\n",
       "</table>\n",
       "</div>"
      ],
      "text/plain": [
       "         keyword                                       title  \\\n",
       "0  \"한국가스공사\" + 손실           [단독] ‘30조 적자’ 한전, 빚내 민간발전사 손실 메운다   \n",
       "1  \"한국가스공사\" + 손실  한전·가스공사 손실 쌓이는데...2분기 요금 두고 국회·세종·용산은 혼돈 속   \n",
       "2  \"한국가스공사\" + 손실          '전기 팔수록 손해' 한전, 올 1분기 5조원대 영업손실 예고   \n",
       "3  \"한국가스공사\" + 손실          '전기 팔수록 손해' 한전, 올 1분기 5조원대 영업손실 예고   \n",
       "4  \"한국가스공사\" + 손실      與 “文정부 탓 한전 추가손실…요금 올리려면 한전 자구노력 선행돼야”   \n",
       "\n",
       "                  date                                    cleaned_content  \n",
       "0  2023-05-10 04:09:12   SMP 상한제로 1조대 손실 추산구입 155원 판매 120원 역마진구조금주 전기가...  \n",
       "1  2023-05-11 19:01:01   관련법규정에 없는 당정협의로 2분기 요금 40일째 미궁20조 자구책에도 여당 뼈 ...  \n",
       "2  2023-05-09 06:01:03   12일께 1분기 실적 공개올해 8조7천억원 적자 전망가스공사 미수금도 11조원대로...  \n",
       "3  2023-05-09 08:54:43       원가보다 싼 전력 공급의 장기화로 적자가 불어나고 있는 한국전력은 올해 1...  \n",
       "4  2023-04-25 06:02:02   에너지미래포럼 25일 에너지정책 토론회박대출 국민의힘 정책위 의장 재차 강조에너지...  "
      ]
     },
     "execution_count": 22,
     "metadata": {},
     "output_type": "execute_result"
    }
   ],
   "source": [
    "df = df.drop(columns = 'content')\n",
    "df.head()"
   ]
  },
  {
   "cell_type": "code",
   "execution_count": 23,
   "metadata": {},
   "outputs": [],
   "source": [
    "df.to_csv('news_preprocessed_0620.csv', index=False)"
   ]
  }
 ],
 "metadata": {
  "kernelspec": {
   "display_name": "cuda_new",
   "language": "python",
   "name": "python3"
  },
  "language_info": {
   "codemirror_mode": {
    "name": "ipython",
    "version": 3
   },
   "file_extension": ".py",
   "mimetype": "text/x-python",
   "name": "python",
   "nbconvert_exporter": "python",
   "pygments_lexer": "ipython3",
   "version": "3.9.16"
  },
  "toc": {
   "base_numbering": 1,
   "nav_menu": {},
   "number_sections": true,
   "sideBar": true,
   "skip_h1_title": false,
   "title_cell": "Table of Contents",
   "title_sidebar": "Contents",
   "toc_cell": false,
   "toc_position": {},
   "toc_section_display": true,
   "toc_window_display": false
  }
 },
 "nbformat": 4,
 "nbformat_minor": 2
}
